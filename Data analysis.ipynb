{
    "cells": [
        {
            "cell_type": "markdown",
            "metadata": {},
            "source": "## Trump\napproval polllist"
        },
        {
            "cell_type": "code",
            "execution_count": 2,
            "metadata": {},
            "outputs": [
                {
                    "data": {
                        "text/html": "<div>\n<style scoped>\n    .dataframe tbody tr th:only-of-type {\n        vertical-align: middle;\n    }\n\n    .dataframe tbody tr th {\n        vertical-align: top;\n    }\n\n    .dataframe thead th {\n        text-align: right;\n    }\n</style>\n<table border=\"1\" class=\"dataframe\">\n  <thead>\n    <tr style=\"text-align: right;\">\n      <th></th>\n      <th>president</th>\n      <th>subgroup</th>\n      <th>modeldate</th>\n      <th>startdate</th>\n      <th>enddate</th>\n      <th>pollster</th>\n      <th>grade</th>\n      <th>samplesize</th>\n      <th>population</th>\n      <th>weight</th>\n      <th>...</th>\n      <th>disapprove</th>\n      <th>adjusted_approve</th>\n      <th>adjusted_disapprove</th>\n      <th>multiversions</th>\n      <th>tracking</th>\n      <th>url</th>\n      <th>poll_id</th>\n      <th>question_id</th>\n      <th>createddate</th>\n      <th>timestamp</th>\n    </tr>\n  </thead>\n  <tbody>\n    <tr>\n      <th>0</th>\n      <td>Donald Trump</td>\n      <td>All polls</td>\n      <td>5/22/2020</td>\n      <td>1/20/2017</td>\n      <td>1/22/2017</td>\n      <td>Morning Consult</td>\n      <td>B/C</td>\n      <td>1992.0</td>\n      <td>rv</td>\n      <td>0.680029</td>\n      <td>...</td>\n      <td>37.0</td>\n      <td>44.976708</td>\n      <td>38.159848</td>\n      <td>NaN</td>\n      <td>NaN</td>\n      <td>http://static.politico.com/9b/13/82a3baf542ae9...</td>\n      <td>49249</td>\n      <td>77261</td>\n      <td>1/23/2017</td>\n      <td>14:42:43 22 May 2020</td>\n    </tr>\n    <tr>\n      <th>1</th>\n      <td>Donald Trump</td>\n      <td>All polls</td>\n      <td>5/22/2020</td>\n      <td>1/20/2017</td>\n      <td>1/22/2017</td>\n      <td>Gallup</td>\n      <td>B</td>\n      <td>1500.0</td>\n      <td>a</td>\n      <td>0.262323</td>\n      <td>...</td>\n      <td>45.0</td>\n      <td>45.695050</td>\n      <td>43.698362</td>\n      <td>NaN</td>\n      <td>T</td>\n      <td>http://www.gallup.com/poll/201617/gallup-daily...</td>\n      <td>49253</td>\n      <td>77265</td>\n      <td>1/23/2017</td>\n      <td>14:42:43 22 May 2020</td>\n    </tr>\n    <tr>\n      <th>2</th>\n      <td>Donald Trump</td>\n      <td>All polls</td>\n      <td>5/22/2020</td>\n      <td>1/20/2017</td>\n      <td>1/24/2017</td>\n      <td>Ipsos</td>\n      <td>B-</td>\n      <td>1632.0</td>\n      <td>a</td>\n      <td>0.153481</td>\n      <td>...</td>\n      <td>45.2</td>\n      <td>43.052958</td>\n      <td>43.988790</td>\n      <td>NaN</td>\n      <td>T</td>\n      <td>http://polling.reuters.com/#poll/CP3_2/</td>\n      <td>49426</td>\n      <td>77599</td>\n      <td>3/1/2017</td>\n      <td>14:42:43 22 May 2020</td>\n    </tr>\n    <tr>\n      <th>3</th>\n      <td>Donald Trump</td>\n      <td>All polls</td>\n      <td>5/22/2020</td>\n      <td>1/21/2017</td>\n      <td>1/23/2017</td>\n      <td>Gallup</td>\n      <td>B</td>\n      <td>1500.0</td>\n      <td>a</td>\n      <td>0.242845</td>\n      <td>...</td>\n      <td>46.0</td>\n      <td>45.695050</td>\n      <td>44.698362</td>\n      <td>NaN</td>\n      <td>T</td>\n      <td>http://www.gallup.com/poll/201617/gallup-daily...</td>\n      <td>49262</td>\n      <td>77274</td>\n      <td>1/24/2017</td>\n      <td>14:42:43 22 May 2020</td>\n    </tr>\n    <tr>\n      <th>4</th>\n      <td>Donald Trump</td>\n      <td>All polls</td>\n      <td>5/22/2020</td>\n      <td>1/22/2017</td>\n      <td>1/24/2017</td>\n      <td>Gallup</td>\n      <td>B</td>\n      <td>1500.0</td>\n      <td>a</td>\n      <td>0.227380</td>\n      <td>...</td>\n      <td>45.0</td>\n      <td>46.695050</td>\n      <td>43.698362</td>\n      <td>NaN</td>\n      <td>T</td>\n      <td>http://www.gallup.com/poll/201617/gallup-daily...</td>\n      <td>49236</td>\n      <td>77248</td>\n      <td>1/25/2017</td>\n      <td>14:42:43 22 May 2020</td>\n    </tr>\n  </tbody>\n</table>\n<p>5 rows \u00d7 22 columns</p>\n</div>",
                        "text/plain": "      president   subgroup  modeldate  startdate    enddate         pollster  \\\n0  Donald Trump  All polls  5/22/2020  1/20/2017  1/22/2017  Morning Consult   \n1  Donald Trump  All polls  5/22/2020  1/20/2017  1/22/2017           Gallup   \n2  Donald Trump  All polls  5/22/2020  1/20/2017  1/24/2017            Ipsos   \n3  Donald Trump  All polls  5/22/2020  1/21/2017  1/23/2017           Gallup   \n4  Donald Trump  All polls  5/22/2020  1/22/2017  1/24/2017           Gallup   \n\n  grade  samplesize population    weight  ...  disapprove  adjusted_approve  \\\n0   B/C      1992.0         rv  0.680029  ...        37.0         44.976708   \n1     B      1500.0          a  0.262323  ...        45.0         45.695050   \n2    B-      1632.0          a  0.153481  ...        45.2         43.052958   \n3     B      1500.0          a  0.242845  ...        46.0         45.695050   \n4     B      1500.0          a  0.227380  ...        45.0         46.695050   \n\n   adjusted_disapprove  multiversions  tracking  \\\n0            38.159848            NaN       NaN   \n1            43.698362            NaN         T   \n2            43.988790            NaN         T   \n3            44.698362            NaN         T   \n4            43.698362            NaN         T   \n\n                                                 url poll_id question_id  \\\n0  http://static.politico.com/9b/13/82a3baf542ae9...   49249       77261   \n1  http://www.gallup.com/poll/201617/gallup-daily...   49253       77265   \n2            http://polling.reuters.com/#poll/CP3_2/   49426       77599   \n3  http://www.gallup.com/poll/201617/gallup-daily...   49262       77274   \n4  http://www.gallup.com/poll/201617/gallup-daily...   49236       77248   \n\n   createddate             timestamp  \n0    1/23/2017  14:42:43 22 May 2020  \n1    1/23/2017  14:42:43 22 May 2020  \n2     3/1/2017  14:42:43 22 May 2020  \n3    1/24/2017  14:42:43 22 May 2020  \n4    1/25/2017  14:42:43 22 May 2020  \n\n[5 rows x 22 columns]"
                    },
                    "execution_count": 2,
                    "metadata": {},
                    "output_type": "execute_result"
                }
            ],
            "source": "# The code was removed by Watson Studio for sharing."
        },
        {
            "cell_type": "code",
            "execution_count": null,
            "metadata": {},
            "outputs": [],
            "source": ""
        }
    ],
    "metadata": {
        "kernelspec": {
            "display_name": "Python 3.6",
            "language": "python",
            "name": "python3"
        },
        "language_info": {
            "codemirror_mode": {
                "name": "ipython",
                "version": 3
            },
            "file_extension": ".py",
            "mimetype": "text/x-python",
            "name": "python",
            "nbconvert_exporter": "python",
            "pygments_lexer": "ipython3",
            "version": "3.6.9"
        }
    },
    "nbformat": 4,
    "nbformat_minor": 1
}